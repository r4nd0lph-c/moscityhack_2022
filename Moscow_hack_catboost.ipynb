{
  "nbformat": 4,
  "nbformat_minor": 0,
  "metadata": {
    "colab": {
      "name": "Moscow_hack_catboost.ipynb",
      "provenance": []
    },
    "kernelspec": {
      "name": "python3",
      "display_name": "Python 3"
    },
    "language_info": {
      "name": "python"
    }
  },
  "cells": [
    {
      "cell_type": "code",
      "source": [
        "!pip install catboost"
      ],
      "metadata": {
        "id": "w5YvXYuyG-IL"
      },
      "execution_count": null,
      "outputs": []
    },
    {
      "cell_type": "code",
      "execution_count": null,
      "metadata": {
        "id": "MduUnE_rGuLJ"
      },
      "outputs": [],
      "source": [
        "import pandas as pd\n",
        "import os\n",
        "import numpy as np\n",
        "import catboost\n",
        "from catboost import *\n",
        "from catboost import datasets\n",
        "from catboost import CatBoostRegressor\n",
        "from catboost import cv\n",
        "\n",
        "from sklearn.model_selection import train_test_split\n",
        "\n",
        "RAND = 10\n"
      ]
    },
    {
      "cell_type": "code",
      "source": [
        "df = pd.read_csv('./train.csv').fillna(0)"
      ],
      "metadata": {
        "id": "viVvHBp9HbMg"
      },
      "execution_count": null,
      "outputs": []
    },
    {
      "cell_type": "code",
      "source": [
        "#разделим targen и features \n",
        "y = df.target\n",
        "X = df.drop('target', axis=1)"
      ],
      "metadata": {
        "id": "TOikr2BfHGsV"
      },
      "execution_count": null,
      "outputs": []
    },
    {
      "cell_type": "code",
      "source": [
        "df.columns"
      ],
      "metadata": {
        "colab": {
          "base_uri": "https://localhost:8080/"
        },
        "id": "7KeiwanRcwDM",
        "outputId": "149c5f6b-4367-4cec-a38f-9cb8025ba28d"
      },
      "execution_count": null,
      "outputs": [
        {
          "output_type": "execute_result",
          "data": {
            "text/plain": [
              "Index(['flag_woman', 'flag_man', 'flag_resident', 'flag_non_resident', 'city',\n",
              "       'flag_own_car', 'flag_own_realty', 'flag_phone', 'flag_work_phone',\n",
              "       'flag_email', 'businessman_flag', 'amount_children', 'annual_incom',\n",
              "       'salary', 'family_income', 'birth_date', 'family_status',\n",
              "       'level_education', 'target'],\n",
              "      dtype='object')"
            ]
          },
          "metadata": {},
          "execution_count": 4
        }
      ]
    },
    {
      "cell_type": "code",
      "source": [
        "X = X.drop(['city', 'birth_date', 'family_status', 'level_education'], axis=1)"
      ],
      "metadata": {
        "id": "kNELEhtuI4Xf"
      },
      "execution_count": 137,
      "outputs": []
    },
    {
      "cell_type": "code",
      "source": [
        "pool = Pool(\n",
        "    data=X,\n",
        "    label=y,\n",
        "    cat_features=cat_features\n",
        ")\n",
        "print('Dataset shape:' + str(pool.shape))\n",
        "print('Column name')\n",
        "print(pool.get_feature_names())"
      ],
      "metadata": {
        "id": "IYrbewDAHGbV",
        "colab": {
          "base_uri": "https://localhost:8080/"
        },
        "outputId": "31c13e2a-bfaa-4af7-b304-956de206f9d7"
      },
      "execution_count": 118,
      "outputs": [
        {
          "output_type": "stream",
          "name": "stdout",
          "text": [
            "Dataset shape:(16797, 18)\n",
            "Column name\n",
            "['flag_woman', 'flag_man', 'flag_resident', 'flag_non_resident', 'city', 'flag_own_car', 'flag_own_realty', 'flag_phone', 'flag_work_phone', 'flag_email', 'businessman_flag', 'amount_children', 'annual_income', 'salary', 'family_income', 'birth_date', 'family_status', 'level_education']\n"
          ]
        }
      ]
    },
    {
      "cell_type": "code",
      "source": [
        "X_train, X_validation, y_train, y_validation = train_test_split(X, y, train_size=0.8, random_state=RAND)\n"
      ],
      "metadata": {
        "id": "qzgxMW1_jXnC"
      },
      "execution_count": 140,
      "outputs": []
    },
    {
      "cell_type": "code",
      "source": [
        "model = CatBoostRegressor(loss_function='MAE',\n",
        "    iterations=2000,\n",
        "    learning_rate=0.1,\n",
        "    depth=6,\n",
        "    random_seed=RAND,\n",
        "    use_best_model=True,\n",
        "    early_stopping_rounds=20\n",
        ")  \n",
        "train_dataset = Pool(\n",
        "    data=X_train,\n",
        "    label=y_train,\n",
        "    cat_features=cat_features\n",
        ")\n",
        "    \n",
        "eval_dataset = Pool(\n",
        "    data=X_validation,\n",
        "    label=y_validation,\n",
        "    cat_features=cat_features\n",
        ")\n",
        "    \n",
        "model.fit(train_dataset,\n",
        "          use_best_model=True,\n",
        "          verbose = 1,\n",
        "          eval_set=eval_dataset,\n",
        ")"
      ],
      "metadata": {
        "id": "fxXxE_5TqiVD"
      },
      "execution_count": null,
      "outputs": []
    },
    {
      "cell_type": "code",
      "source": [
        "print('Model is fitted: ' + str(model.is_fitted()))\n",
        "print('Model params:')\n",
        "print(model.get_params())\n",
        "print('Tree count: ' + str(model.tree_count_))"
      ],
      "metadata": {
        "colab": {
          "base_uri": "https://localhost:8080/"
        },
        "id": "P-5f_cpVFDfy",
        "outputId": "fda5d1ea-0cc4-460c-ea35-57927aebbe2c"
      },
      "execution_count": 88,
      "outputs": [
        {
          "output_type": "stream",
          "name": "stdout",
          "text": [
            "Model is fitted: True\n",
            "Model params:\n",
            "{'iterations': 2000, 'learning_rate': 0.3, 'depth': 6, 'loss_function': 'MultiRMSE', 'random_seed': 10, 'use_best_model': True}\n",
            "Tree count: 21\n"
          ]
        }
      ]
    },
    {
      "cell_type": "code",
      "source": [
        "model = CatBoostRegressor(\n",
        "    iterations=1000,\n",
        "    learning_rate=0.3,\n",
        "    depth=1,\n",
        "    random_seed=RAND,\n",
        "    custom_loss=['AUC', 'Accuracy'],\n",
        "    use_best_model=True,\n",
        "    early_stopping_rounds=20,\n",
        "    #loss_function='CrossEntropy'\n",
        ")\n",
        "model.fit(\n",
        "    pool,\n",
        "    cat_features=cat_features,\n",
        "    plot=True\n",
        ")\n",
        "print('Model is fitted: ' + str(model.is_fitted()))\n",
        "print('Model params:')\n",
        "print(model.get_params())\n",
        "print('Tree count: ' + str(model.tree_count_))"
      ],
      "metadata": {
        "id": "mhvtNyk1jqnj"
      },
      "execution_count": null,
      "outputs": []
    },
    {
      "cell_type": "code",
      "source": [
        "model.save_model('model.json', format='json')"
      ],
      "metadata": {
        "id": "dBnjd4M_NZ6V"
      },
      "execution_count": 102,
      "outputs": []
    }
  ]
}