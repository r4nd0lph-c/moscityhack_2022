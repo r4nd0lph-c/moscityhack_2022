{
  "nbformat": 4,
  "nbformat_minor": 0,
  "metadata": {
    "colab": {
      "name": "Untitled8.ipynb",
      "provenance": [],
      "collapsed_sections": []
    },
    "kernelspec": {
      "name": "python3",
      "display_name": "Python 3"
    },
    "language_info": {
      "name": "python"
    }
  },
  "cells": [
    {
      "cell_type": "code",
      "execution_count": null,
      "metadata": {
        "id": "oIPiouy_Ifak"
      },
      "outputs": [],
      "source": [
        "import pandas as pd\n",
        "import numpy as np\n",
        "import random \n",
        "\n",
        "import seaborn as sns\n",
        "import matplotlib.pyplot as plt\n",
        "\n",
        "from sklearn import utils\n",
        "\n",
        "from sklearn.model_selection import train_test_split, StratifiedKFold, GridSearchCV\n",
        "from sklearn.linear_model import LogisticRegression\n",
        "from sklearn.metrics import precision_score, recall_score, auc, accuracy_score, roc_auc_score,f1_score,log_loss,\\\n",
        "classification_report, roc_curve\n",
        "\n",
        "import warnings\n",
        "warnings.filterwarnings(\"ignore\");\n",
        "\n",
        "RAND = 10"
      ]
    },
    {
      "cell_type": "code",
      "source": [
        "df = pd.read_csv('/content/drive/MyDrive/Moscow_hack/df.csv').fillna(0)"
      ],
      "metadata": {
        "id": "2Drt7OrFI86o"
      },
      "execution_count": null,
      "outputs": []
    },
    {
      "cell_type": "code",
      "source": [
        "df.head(3)"
      ],
      "metadata": {
        "colab": {
          "base_uri": "https://localhost:8080/",
          "height": 289
        },
        "id": "dxR5hjZrJ4JZ",
        "outputId": "88c894b5-57ec-4145-e61f-21aacf5996e1"
      },
      "execution_count": null,
      "outputs": [
        {
          "output_type": "execute_result",
          "data": {
            "text/plain": [
              "                          client_id gender  birth_date create_date  \\\n",
              "0  fe60b594364f9f636266ed1ef4f89c32      Ж        1985  2020-01-29   \n",
              "1  3012cabca5885ed53d348d6e57dab5de      М        1951  2009-09-24   \n",
              "2  d871ef96820b6c7a1ada8e01a772724e      Ж        1982  2006-12-25   \n",
              "\n",
              "  nonresident_flag  businessman_flag              city  term  contract_sum  \\\n",
              "0                R                 0  Гусь-Хрустальный   0.0           0.0   \n",
              "1                R                 0           Ишимбай   0.0           0.0   \n",
              "2                R                 0              Юрга   0.0           0.0   \n",
              "\n",
              "                         product_category_name  ...         card_type_name  \\\n",
              "0  Договор на текущий счет для дебетовой карты  ...  Visa Platinum Rewards   \n",
              "1  Договор на текущий счет для дебетовой карты  ...           VISA Classic   \n",
              "2  Договор на текущий счет для дебетовой карты  ...                      0   \n",
              "\n",
              "  start_date  fact_close_date  purchase_sum  purchase_count  \\\n",
              "0     2019.0           2021.0       16600.0              71   \n",
              "1     2019.0              0.0           0.0               0   \n",
              "2        0.0              0.0           0.0               0   \n",
              "\n",
              "   current_balance_avg_sum  current_balance_sum  current_debit_turn_sum  \\\n",
              "0                  39700.0              25700.0                220600.0   \n",
              "1                   1900.0               1000.0                  6200.0   \n",
              "2                      0.0                  0.0                     0.0   \n",
              "\n",
              "   current_credit_turn_sum  card_type  \n",
              "0                 201000.0         dc  \n",
              "1                   3000.0         dc  \n",
              "2                      0.0         dc  \n",
              "\n",
              "[3 rows x 21 columns]"
            ],
            "text/html": [
              "\n",
              "  <div id=\"df-4717e3e2-5416-4afd-822b-cc1bfc94ca4a\">\n",
              "    <div class=\"colab-df-container\">\n",
              "      <div>\n",
              "<style scoped>\n",
              "    .dataframe tbody tr th:only-of-type {\n",
              "        vertical-align: middle;\n",
              "    }\n",
              "\n",
              "    .dataframe tbody tr th {\n",
              "        vertical-align: top;\n",
              "    }\n",
              "\n",
              "    .dataframe thead th {\n",
              "        text-align: right;\n",
              "    }\n",
              "</style>\n",
              "<table border=\"1\" class=\"dataframe\">\n",
              "  <thead>\n",
              "    <tr style=\"text-align: right;\">\n",
              "      <th></th>\n",
              "      <th>client_id</th>\n",
              "      <th>gender</th>\n",
              "      <th>birth_date</th>\n",
              "      <th>create_date</th>\n",
              "      <th>nonresident_flag</th>\n",
              "      <th>businessman_flag</th>\n",
              "      <th>city</th>\n",
              "      <th>term</th>\n",
              "      <th>contract_sum</th>\n",
              "      <th>product_category_name</th>\n",
              "      <th>...</th>\n",
              "      <th>card_type_name</th>\n",
              "      <th>start_date</th>\n",
              "      <th>fact_close_date</th>\n",
              "      <th>purchase_sum</th>\n",
              "      <th>purchase_count</th>\n",
              "      <th>current_balance_avg_sum</th>\n",
              "      <th>current_balance_sum</th>\n",
              "      <th>current_debit_turn_sum</th>\n",
              "      <th>current_credit_turn_sum</th>\n",
              "      <th>card_type</th>\n",
              "    </tr>\n",
              "  </thead>\n",
              "  <tbody>\n",
              "    <tr>\n",
              "      <th>0</th>\n",
              "      <td>fe60b594364f9f636266ed1ef4f89c32</td>\n",
              "      <td>Ж</td>\n",
              "      <td>1985</td>\n",
              "      <td>2020-01-29</td>\n",
              "      <td>R</td>\n",
              "      <td>0</td>\n",
              "      <td>Гусь-Хрустальный</td>\n",
              "      <td>0.0</td>\n",
              "      <td>0.0</td>\n",
              "      <td>Договор на текущий счет для дебетовой карты</td>\n",
              "      <td>...</td>\n",
              "      <td>Visa Platinum Rewards</td>\n",
              "      <td>2019.0</td>\n",
              "      <td>2021.0</td>\n",
              "      <td>16600.0</td>\n",
              "      <td>71</td>\n",
              "      <td>39700.0</td>\n",
              "      <td>25700.0</td>\n",
              "      <td>220600.0</td>\n",
              "      <td>201000.0</td>\n",
              "      <td>dc</td>\n",
              "    </tr>\n",
              "    <tr>\n",
              "      <th>1</th>\n",
              "      <td>3012cabca5885ed53d348d6e57dab5de</td>\n",
              "      <td>М</td>\n",
              "      <td>1951</td>\n",
              "      <td>2009-09-24</td>\n",
              "      <td>R</td>\n",
              "      <td>0</td>\n",
              "      <td>Ишимбай</td>\n",
              "      <td>0.0</td>\n",
              "      <td>0.0</td>\n",
              "      <td>Договор на текущий счет для дебетовой карты</td>\n",
              "      <td>...</td>\n",
              "      <td>VISA Classic</td>\n",
              "      <td>2019.0</td>\n",
              "      <td>0.0</td>\n",
              "      <td>0.0</td>\n",
              "      <td>0</td>\n",
              "      <td>1900.0</td>\n",
              "      <td>1000.0</td>\n",
              "      <td>6200.0</td>\n",
              "      <td>3000.0</td>\n",
              "      <td>dc</td>\n",
              "    </tr>\n",
              "    <tr>\n",
              "      <th>2</th>\n",
              "      <td>d871ef96820b6c7a1ada8e01a772724e</td>\n",
              "      <td>Ж</td>\n",
              "      <td>1982</td>\n",
              "      <td>2006-12-25</td>\n",
              "      <td>R</td>\n",
              "      <td>0</td>\n",
              "      <td>Юрга</td>\n",
              "      <td>0.0</td>\n",
              "      <td>0.0</td>\n",
              "      <td>Договор на текущий счет для дебетовой карты</td>\n",
              "      <td>...</td>\n",
              "      <td>0</td>\n",
              "      <td>0.0</td>\n",
              "      <td>0.0</td>\n",
              "      <td>0.0</td>\n",
              "      <td>0</td>\n",
              "      <td>0.0</td>\n",
              "      <td>0.0</td>\n",
              "      <td>0.0</td>\n",
              "      <td>0.0</td>\n",
              "      <td>dc</td>\n",
              "    </tr>\n",
              "  </tbody>\n",
              "</table>\n",
              "<p>3 rows × 21 columns</p>\n",
              "</div>\n",
              "      <button class=\"colab-df-convert\" onclick=\"convertToInteractive('df-4717e3e2-5416-4afd-822b-cc1bfc94ca4a')\"\n",
              "              title=\"Convert this dataframe to an interactive table.\"\n",
              "              style=\"display:none;\">\n",
              "        \n",
              "  <svg xmlns=\"http://www.w3.org/2000/svg\" height=\"24px\"viewBox=\"0 0 24 24\"\n",
              "       width=\"24px\">\n",
              "    <path d=\"M0 0h24v24H0V0z\" fill=\"none\"/>\n",
              "    <path d=\"M18.56 5.44l.94 2.06.94-2.06 2.06-.94-2.06-.94-.94-2.06-.94 2.06-2.06.94zm-11 1L8.5 8.5l.94-2.06 2.06-.94-2.06-.94L8.5 2.5l-.94 2.06-2.06.94zm10 10l.94 2.06.94-2.06 2.06-.94-2.06-.94-.94-2.06-.94 2.06-2.06.94z\"/><path d=\"M17.41 7.96l-1.37-1.37c-.4-.4-.92-.59-1.43-.59-.52 0-1.04.2-1.43.59L10.3 9.45l-7.72 7.72c-.78.78-.78 2.05 0 2.83L4 21.41c.39.39.9.59 1.41.59.51 0 1.02-.2 1.41-.59l7.78-7.78 2.81-2.81c.8-.78.8-2.07 0-2.86zM5.41 20L4 18.59l7.72-7.72 1.47 1.35L5.41 20z\"/>\n",
              "  </svg>\n",
              "      </button>\n",
              "      \n",
              "  <style>\n",
              "    .colab-df-container {\n",
              "      display:flex;\n",
              "      flex-wrap:wrap;\n",
              "      gap: 12px;\n",
              "    }\n",
              "\n",
              "    .colab-df-convert {\n",
              "      background-color: #E8F0FE;\n",
              "      border: none;\n",
              "      border-radius: 50%;\n",
              "      cursor: pointer;\n",
              "      display: none;\n",
              "      fill: #1967D2;\n",
              "      height: 32px;\n",
              "      padding: 0 0 0 0;\n",
              "      width: 32px;\n",
              "    }\n",
              "\n",
              "    .colab-df-convert:hover {\n",
              "      background-color: #E2EBFA;\n",
              "      box-shadow: 0px 1px 2px rgba(60, 64, 67, 0.3), 0px 1px 3px 1px rgba(60, 64, 67, 0.15);\n",
              "      fill: #174EA6;\n",
              "    }\n",
              "\n",
              "    [theme=dark] .colab-df-convert {\n",
              "      background-color: #3B4455;\n",
              "      fill: #D2E3FC;\n",
              "    }\n",
              "\n",
              "    [theme=dark] .colab-df-convert:hover {\n",
              "      background-color: #434B5C;\n",
              "      box-shadow: 0px 1px 3px 1px rgba(0, 0, 0, 0.15);\n",
              "      filter: drop-shadow(0px 1px 2px rgba(0, 0, 0, 0.3));\n",
              "      fill: #FFFFFF;\n",
              "    }\n",
              "  </style>\n",
              "\n",
              "      <script>\n",
              "        const buttonEl =\n",
              "          document.querySelector('#df-4717e3e2-5416-4afd-822b-cc1bfc94ca4a button.colab-df-convert');\n",
              "        buttonEl.style.display =\n",
              "          google.colab.kernel.accessAllowed ? 'block' : 'none';\n",
              "\n",
              "        async function convertToInteractive(key) {\n",
              "          const element = document.querySelector('#df-4717e3e2-5416-4afd-822b-cc1bfc94ca4a');\n",
              "          const dataTable =\n",
              "            await google.colab.kernel.invokeFunction('convertToInteractive',\n",
              "                                                     [key], {});\n",
              "          if (!dataTable) return;\n",
              "\n",
              "          const docLinkHtml = 'Like what you see? Visit the ' +\n",
              "            '<a target=\"_blank\" href=https://colab.research.google.com/notebooks/data_table.ipynb>data table notebook</a>'\n",
              "            + ' to learn more about interactive tables.';\n",
              "          element.innerHTML = '';\n",
              "          dataTable['output_type'] = 'display_data';\n",
              "          await google.colab.output.renderOutput(dataTable, element);\n",
              "          const docLink = document.createElement('div');\n",
              "          docLink.innerHTML = docLinkHtml;\n",
              "          element.appendChild(docLink);\n",
              "        }\n",
              "      </script>\n",
              "    </div>\n",
              "  </div>\n",
              "  "
            ]
          },
          "metadata": {},
          "execution_count": 159
        }
      ]
    },
    {
      "cell_type": "code",
      "source": [
        "df.shape"
      ],
      "metadata": {
        "colab": {
          "base_uri": "https://localhost:8080/"
        },
        "id": "VzfGtdNCJVWK",
        "outputId": "6a64f2bb-a535-4f5d-999c-10750d06527f"
      },
      "execution_count": null,
      "outputs": [
        {
          "output_type": "execute_result",
          "data": {
            "text/plain": [
              "(371583, 21)"
            ]
          },
          "metadata": {},
          "execution_count": 160
        }
      ]
    },
    {
      "cell_type": "code",
      "source": [
        "def binary_random_array(df, part_zeros=0.2):\n",
        "  len_df = len(df)\n",
        "  flag_false = np.zeros(round(len_df*part_zeros))\n",
        "  flag_true = np.ones(len_df-len(flag_false))\n",
        "  all_data = np.concatenate((flag_false, flag_true), axis=0)\n",
        "  random.shuffle(all_data)\n",
        "  return all_data"
      ],
      "metadata": {
        "id": "wZlYnS9aV5Hb"
      },
      "execution_count": null,
      "outputs": []
    },
    {
      "cell_type": "code",
      "source": [
        "def feature_claint(column):\n",
        "  return [df[column].loc[df['client_id'] == i].iloc[0] for i in train.client_id]"
      ],
      "metadata": {
        "id": "OmwEfJnvgR_Q"
      },
      "execution_count": null,
      "outputs": []
    },
    {
      "cell_type": "code",
      "source": [
        "def rand_generate_feature(start, stop, amount):\n",
        "  return np.array([(random.randint(start, stop)) for i in range(amount)])"
      ],
      "metadata": {
        "id": "9zGr6467Rh8m"
      },
      "execution_count": null,
      "outputs": []
    },
    {
      "cell_type": "code",
      "source": [
        "train = pd.DataFrame()\n",
        "train['client_id'] = df.client_id.unique()"
      ],
      "metadata": {
        "id": "Vj6kVM5pszFI"
      },
      "execution_count": null,
      "outputs": []
    },
    {
      "cell_type": "code",
      "source": [
        "card_type_name_debit = df['card_type_name'].loc[df['card_type'] == 'dc'].unique()\n",
        "len_card_type_name_debit = len(card_type_name_debit)\n",
        "card_type_name_df = pd.DataFrame({\n",
        "    'name': card_type_name_debit,\n",
        "    'monthly_maintenance': rand_generate_feature(0, 500, len_card_type_name_debit), \n",
        "    'cashback':rand_generate_feature(0, 1, len_card_type_name_debit),\n",
        "    'percentage_of_purchases':rand_generate_feature(1, 2, len_card_type_name_debit),\n",
        "    'percentage_money_account':rand_generate_feature(15, 25, len_card_type_name_debit),\n",
        "    'procent_on_the_balance':rand_generate_feature(5, 15, len_card_type_name_debit),\n",
        "    'flag_debit':np.ones(len_card_type_name_debit),\n",
        "    'loan_interest':np.NaN,\n",
        "    'procent_credit': np.NaN\n",
        "})\n",
        "\n",
        "card_type_name_credit = df['card_type_name'].loc[df['card_type'] == 'cc'].unique()\n",
        "len_card_type_name_credit = len(card_type_name_credit)\n",
        "\n",
        "card_type_name_df = pd.concat([card_type_name_df, pd.DataFrame({\n",
        "    'name': card_type_name_credit,\n",
        "    'monthly_maintenance': rand_generate_feature(300, 1500, len_card_type_name_credit), \n",
        "    'cashback':rand_generate_feature(0, 1, len_card_type_name_credit),\n",
        "    'percentage_of_purchases':rand_generate_feature(1, 2, len_card_type_name_credit),\n",
        "    'percentage_money_account':rand_generate_feature(15, 25, len_card_type_name_credit),\n",
        "    'procent_on_the_balance':rand_generate_feature(5, 15, len_card_type_name_credit),\n",
        "    'flag_debit':np.zeros(len_card_type_name_credit),\n",
        "    'loan_interest':rand_generate_feature(10, 30, len_card_type_name_credit),\n",
        "    'procent_credit': np.NaN\n",
        "})])\n",
        "\n",
        "additional_names = np.array(['потребительский', 'ипотека', 'автокредит', 'овердрафт']) #данных нет в data set но есть в описание\n",
        "len_additional_names = len(additional_names)\n",
        "card_type_name_df = pd.concat([card_type_name_df, pd.DataFrame({\n",
        "    'name': additional_names,\n",
        "    'monthly_maintenance':  np.NaN, \n",
        "    'cashback': np.NaN,\n",
        "    'percentage_of_purchases': np.NaN,\n",
        "    'percentage_money_account': np.NaN,\n",
        "    'procent_on_the_balance': np.NaN,\n",
        "    'flag_debit':  np.NaN,\n",
        "    'loan_interest': np.NaN,\n",
        "    'procent_credit': rand_generate_feature(10, 25, len_additional_names)\n",
        "})])\n",
        "card_type_name_df = card_type_name_df.fillna(0)"
      ],
      "metadata": {
        "id": "DpfGomTbQWbH"
      },
      "execution_count": null,
      "outputs": []
    },
    {
      "cell_type": "code",
      "source": [
        "def count_target():\n",
        "  all_metric_array = []\n",
        "  for i in train.client_id:\n",
        "    all_sum_open = 0\n",
        "    all_sum_close = 0\n",
        "    for len_id in range(len(df.loc[df['client_id'] == i])):\n",
        "      contract_sum = df['contract_sum'].loc[df['client_id'] == i].iloc[len_id]\n",
        "      fact_close_date\t= df['start_date'].loc[df['client_id'] == i].iloc[len_id]\n",
        "      current_balance_avg_sum\t= df['current_balance_avg_sum'].loc[df['client_id'] == i].iloc[len_id]\n",
        "      current_debit_turn_sum\t= df['current_debit_turn_sum'].loc[df['client_id'] == i].iloc[len_id]\n",
        "      current_credit_turn_sum\t= df['current_credit_turn_sum'].loc[df['client_id'] == i].iloc[len_id]\n",
        "      card_type\t= df['card_type'].loc[df['client_id'] == i].iloc[len_id]\n",
        "      card_type_name\t= df['card_type_name'].loc[df['client_id'] == i].iloc[len_id]\n",
        "\n",
        "      \n",
        "      monthly_maintenance = card_type_name_df['monthly_maintenance'].loc[card_type_name_df['name'] == card_type_name].to_frame().iloc[0][0]\n",
        "      cashback = card_type_name_df['cashback'].loc[card_type_name_df['name'] == card_type_name].to_frame().iloc[0][0]\n",
        "      percentage_of_purchases = card_type_name_df['percentage_of_purchases'].loc[card_type_name_df['name'] == card_type_name].to_frame().iloc[0][0]\n",
        "      percentage_money_account = card_type_name_df['percentage_money_account'].loc[card_type_name_df['name'] == card_type_name].to_frame().iloc[0][0]\n",
        "      procent_on_the_balance = card_type_name_df['procent_on_the_balance'].loc[card_type_name_df['name'] == card_type_name].to_frame().iloc[0][0]\n",
        "      flag_debit = card_type_name_df['flag_debit'].loc[card_type_name_df['name'] == card_type_name].to_frame().iloc[0][0]\n",
        "      loan_interest = card_type_name_df['loan_interest'].loc[card_type_name_df['name'] == card_type_name].to_frame().iloc[0][0]\n",
        "      procent_credit = card_type_name_df['procent_credit'].loc[card_type_name_df['name'] == card_type_name].to_frame().iloc[0][0]\n",
        "\n",
        "\n",
        "      if fact_close_date == '0': # счет открыт\n",
        "        if card_type == 'dc' or card_type == 'cc':\n",
        "          all_sum_open += monthly_maintenance + (current_debit_turn_sum * (percentage_of_purchases - cashback) * flag_debit + (current_credit_turn_sum * (percentage_of_purchases - cashback) + current_credit_turn_sum * procent_credit) * (1 - flag_debit))/100\n",
        "        else:\n",
        "          all_sum_open += contract_sum * procent_credit / 100\n",
        "      else:\n",
        "        if card_type == 'dc' or card_type == 'cc':\n",
        "          all_sum_close += monthly_maintenance + (current_debit_turn_sum * (percentage_of_purchases - cashback) * flag_debit + (current_credit_turn_sum * (percentage_of_purchases - cashback) + current_credit_turn_sum * procent_credit) * (1 - flag_debit))/100\n",
        "        else:\n",
        "          all_sum_close += contract_sum * procent_credit / 100 / 12\n",
        "    all_metric_array.append((all_sum_open, all_sum_close))\n",
        "  return all_metric_array\n"
      ],
      "metadata": {
        "id": "cuqe14sCza4Z"
      },
      "execution_count": null,
      "outputs": []
    },
    {
      "cell_type": "code",
      "source": [
        "df_w = pd.DataFrame()\n",
        "df_m = pd.DataFrame()\n",
        "df_w['client_id'] = df.loc[df.gender == 'Ж'].client_id.unique()\n",
        "df_w['flag_woman'] = np.ones(len(df_w))\n",
        "df_m['client_id'] = df.loc[df.gender == 'М'].client_id.unique()\n",
        "df_m['flag_woman'] = np.zeros(len(df_m))\n",
        "flag_woman = pd.concat([df_w, df_m])\n",
        "train = train.merge(flag_woman, left_on='client_id', right_on='client_id')\n",
        "\n",
        "df_w = pd.DataFrame()\n",
        "df_m = pd.DataFrame()\n",
        "df_w['client_id'] = df.loc[df.gender == 'Ж'].client_id.unique()\n",
        "df_w['flag_man'] = np.zeros(len(df_w))\n",
        "df_m['client_id'] = df.loc[df.gender == 'М'].client_id.unique()\n",
        "df_m['flag_man'] = np.ones(len(df_m))\n",
        "flag_man = pd.concat([df_w, df_m])\n",
        "train = train.merge(flag_man, left_on='client_id', right_on='client_id')\n",
        "\n",
        "\n",
        "resident = pd.DataFrame()\n",
        "non_resident = pd.DataFrame()\n",
        "resident['client_id'] = df.loc[df.nonresident_flag == 'R'].client_id.unique()\n",
        "resident['flag_resident'] = np.ones(len(resident))\n",
        "non_resident['client_id'] = df.loc[df.nonresident_flag == 'N'].client_id.unique()\n",
        "non_resident['flag_resident'] = np.zeros(len(non_resident))\n",
        "flag_resident = pd.concat([resident, non_resident])\n",
        "train = train.merge(flag_resident, left_on='client_id', right_on='client_id')\n",
        "\n",
        "resident = pd.DataFrame()\n",
        "non_resident = pd.DataFrame()\n",
        "resident['client_id'] = df.loc[df.nonresident_flag == 'R'].client_id.unique()\n",
        "resident['flag_non_resident'] = np.zeros(len(resident))\n",
        "non_resident['client_id'] = df.loc[df.nonresident_flag == 'N'].client_id.unique()\n",
        "non_resident['flag_non_resident'] = np.ones(len(non_resident))\n",
        "flag_non_resident = pd.concat([non_resident, resident])\n",
        "train = train.merge(flag_non_resident, left_on='client_id', right_on='client_id')"
      ],
      "metadata": {
        "id": "I7dWnf1xni-N"
      },
      "execution_count": null,
      "outputs": []
    },
    {
      "cell_type": "code",
      "source": [
        "train['city'] = feature_claint('city')\n",
        "# train['birth_date'] = feature_claint('birth_date')\n",
        "# train['businessman_flag'] = feature_claint('businessman_flag')"
      ],
      "metadata": {
        "id": "sdgnYWwNhLXZ"
      },
      "execution_count": null,
      "outputs": []
    },
    {
      "cell_type": "code",
      "source": [
        "train['flag_own_car'] = binary_random_array(train, 0.2)\n",
        "train['flag_own_realty'] = binary_random_array(train, 0.2)\n",
        "train['flag_phone'] = binary_random_array(train, 0.2)\n",
        "train['flag_work_phone'] = binary_random_array(train, 0.2)\n",
        "train['flag_email'] = binary_random_array(train, 0.2)\n",
        "\n",
        "train['businessman_flag'] = binary_random_array(train, 0.9)\n",
        "\n",
        "\n",
        "len_train = len(train)\n",
        "train['amount_children'] = rand_generate_feature(0, 3, len_train)\n",
        "train['annual_income'] = rand_generate_feature(270000, 2000000, len_train)\n",
        "train['salary'] = rand_generate_feature(15000, 300000, len_train)\n",
        "train['family_income'] = rand_generate_feature(16000, 500000, len_train)\n",
        "\n",
        "train['birth_date'] = rand_generate_feature(1970, 2004, len_train)\n",
        "\n",
        "\n",
        "train['family_status'] = np.array([random.choice(['Холост / Не замужем', 'В браке']) for i in range(len_train)])\n",
        "train['level_education'] = np.array([random.choice(['Дошкольное', 'Начальное', 'Основное общее', 'Основное специальноее', 'Высшее']) for i in range(len_train)])\n"
      ],
      "metadata": {
        "id": "mVxl0n5RJGX4"
      },
      "execution_count": null,
      "outputs": []
    },
    {
      "cell_type": "code",
      "source": [
        "# target = count_target()\n",
        "target = rand_generate_feature(300, 3000, len_train)"
      ],
      "metadata": {
        "id": "3NGyEu6d-78R"
      },
      "execution_count": null,
      "outputs": []
    },
    {
      "cell_type": "code",
      "source": [
        "train['target'] = target"
      ],
      "metadata": {
        "id": "EkPWv8UqRiSC"
      },
      "execution_count": null,
      "outputs": []
    },
    {
      "cell_type": "code",
      "source": [
        "train = train.drop('client_id', axis=1)"
      ],
      "metadata": {
        "id": "PfqAGWtLCev0"
      },
      "execution_count": null,
      "outputs": []
    },
    {
      "cell_type": "code",
      "source": [
        "train.to_csv('train.csv', index=False)"
      ],
      "metadata": {
        "id": "k-VEDkcE_G6Y"
      },
      "execution_count": null,
      "outputs": []
    }
  ]
}